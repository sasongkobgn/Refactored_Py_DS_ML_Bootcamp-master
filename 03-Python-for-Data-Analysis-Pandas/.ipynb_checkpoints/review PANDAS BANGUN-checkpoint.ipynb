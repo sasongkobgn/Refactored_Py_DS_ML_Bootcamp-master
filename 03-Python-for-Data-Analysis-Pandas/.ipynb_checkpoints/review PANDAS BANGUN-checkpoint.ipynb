{
 "cells": [
  {
   "cell_type": "markdown",
   "metadata": {},
   "source": [
    "# [REVIEW]\n",
    "\n",
    "## PANDAS\n",
    "\n",
    "pandas dan datafram adalah sebuah cara atau library yang sebenarnya dalah sama yang membedakan adalah ketika ktia mengguakna dataframe yang kita akan disuguhkan hal hal yang explisit atau pandas dapat mengeplot sebuah dataframe ktia menjadi seperti excel! \n",
    "\n",
    "[diferent between pandas and numpy] \n",
    "1. pandas ekplisit dan numpy tidak\n",
    "2. pandas numpy merupakan numerical computing! \n",
    "3. pandas diguakan untuk membuat sebuah series yang lebih baik meskipun itu bisa kita lakukan mengguakan numpy\n",
    "\n"
   ]
  },
  {
   "cell_type": "code",
   "execution_count": 2,
   "metadata": {},
   "outputs": [],
   "source": [
    "import numpy as np\n",
    "import pandas as pd"
   ]
  },
  {
   "cell_type": "code",
   "execution_count": null,
   "metadata": {},
   "outputs": [],
   "source": [
    "# jangan lupa disini kita sudah belajar bagiamana menggunakan array "
   ]
  }
 ],
 "metadata": {
  "kernelspec": {
   "display_name": "Python 3",
   "language": "python",
   "name": "python3"
  },
  "language_info": {
   "codemirror_mode": {
    "name": "ipython",
    "version": 3
   },
   "file_extension": ".py",
   "mimetype": "text/x-python",
   "name": "python",
   "nbconvert_exporter": "python",
   "pygments_lexer": "ipython3",
   "version": "3.7.4"
  }
 },
 "nbformat": 4,
 "nbformat_minor": 2
}
